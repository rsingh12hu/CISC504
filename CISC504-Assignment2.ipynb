{
 "cells": [
  {
   "cell_type": "markdown",
   "metadata": {},
   "source": [
    "Exercise #1"
   ]
  },
  {
   "cell_type": "markdown",
   "metadata": {},
   "source": [
    "Name:\n",
    "    In the above example the principal, aapr are the names of the   variables print ('The amount in 10 years is:', principal)\n",
    "    \n",
    "Output statement:\n",
    "    Once the values are computed, the results are printed in the final statement\n",
    "    \n",
    "Expression evaluvated:\n",
    "    The program evaluvated for 10 iterations and the next statement is based on the previous value. The following expression is being evauvated : principal = principal * (1 + apr)\n",
    "\n",
    "Simple varible assignment:\n",
    "    The line principal = float(input('Enter the initial principal: ')) asks user for an input and assigns it to principal"
   ]
  },
  {
   "cell_type": "markdown",
   "metadata": {},
   "source": [
    "Exercise #2"
   ]
  },
  {
   "cell_type": "markdown",
   "metadata": {},
   "source": [
    "Requirements: The client wants to use a converter to convert the units from Impertial to Metrics units. This would allow them to be able to convert units from quantities used by other countries to units used within USA  "
   ]
  },
  {
   "cell_type": "markdown",
   "metadata": {},
   "source": [
    "Specification: The user should be able to call different funcations that will allow them to add the temperature, speed and weight in metric units and they expect the outcome in imperial units."
   ]
  },
  {
   "cell_type": "markdown",
   "metadata": {},
   "source": [
    "Pseudocode: To conver the data:\n",
    "1. Ask the user about the quantity to convert\n",
    "2. To convert weight from ounce to gram, multiply input quantity by 0.0625\n",
    "3. To convert temperature from fahrenheit to celsius, use the following formula (input_quant-32)*0.55\n",
    "4. To convert speed from kilometer/hr to miles/hr, multiply the input quantity by 0.621371 "
   ]
  },
  {
   "cell_type": "code",
   "execution_count": null,
   "metadata": {},
   "outputs": [],
   "source": [
    "def kmhr2mileshr(input_data):\n",
    "    print (\"Speed \", input_data, \" km/hr is \", float(input_data)*0.621371, \" miles/hr\" )"
   ]
  },
  {
   "cell_type": "code",
   "execution_count": null,
   "metadata": {},
   "outputs": [],
   "source": [
    "def ounce2gram(input_data):\n",
    "    print (\"Weight \", input_data, \" ounce is \", float(input_data)*0.0625, \" grams\" )"
   ]
  },
  {
   "cell_type": "code",
   "execution_count": null,
   "metadata": {},
   "outputs": [],
   "source": [
    "def fahrenheit2celsius(input_data):\n",
    "    print (\"Temprature \", input_data, \" fahrenheit is \", (float(input_data)-32)*0.55, \" celsius\" )"
   ]
  }
 ],
 "metadata": {
  "kernelspec": {
   "display_name": "Python 3",
   "language": "python",
   "name": "python3"
  },
  "language_info": {
   "codemirror_mode": {
    "name": "ipython",
    "version": 3
   },
   "file_extension": ".py",
   "mimetype": "text/x-python",
   "name": "python",
   "nbconvert_exporter": "python",
   "pygments_lexer": "ipython3",
   "version": "3.6.5"
  }
 },
 "nbformat": 4,
 "nbformat_minor": 2
}
