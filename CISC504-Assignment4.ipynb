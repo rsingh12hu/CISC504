{
 "cells": [
  {
   "cell_type": "code",
   "execution_count": 4,
   "metadata": {},
   "outputs": [
    {
     "name": "stdout",
     "output_type": "stream",
     "text": [
      "Jsmith\n"
     ]
    }
   ],
   "source": [
    "# Excersize 1\n",
    "from string import ascii_lowercase\n",
    "first_name = \"John\" \n",
    "last_name = \"Smith\"    \n",
    "\n",
    "print (first_name[0]+(last_name.lower()))"
   ]
  },
  {
   "cell_type": "code",
   "execution_count": 7,
   "metadata": {},
   "outputs": [
    {
     "name": "stdout",
     "output_type": "stream",
     "text": [
      "['Send', 'eagle', 'cross', 'rainbow', 'entire', 'time']\n"
     ]
    }
   ],
   "source": [
    "# Excersize 2\n",
    "\n",
    "secret = \"Send eagle cross rainbow entire time\"\n",
    "\n",
    "result = \"\"\n",
    "\n",
    "for i in secret.split():\n",
    "    result += i[0]\n",
    "print (result)"
   ]
  },
  {
   "cell_type": "code",
   "execution_count": 1,
   "metadata": {},
   "outputs": [
    {
     "name": "stdout",
     "output_type": "stream",
     "text": [
      "Input message you would like encrypted:\n",
      "Robn sngh\n",
      "pmzl qlef\n",
      "robn sngh\n"
     ]
    }
   ],
   "source": [
    "# Excersize 3\n",
    "\n",
    "from string import ascii_lowercase as Characters\n",
    "\n",
    "def shift(message, offset):\n",
    "\n",
    "    trans = str.maketrans(Characters, Characters[offset:] + Characters[:offset])\n",
    "    return message.lower().translate(trans)\n",
    "\n",
    "def decrypt(word, offset):\n",
    "    word.lower()\n",
    "    decrypted_string = \"\"\n",
    "    for i in word:\n",
    "        #checking if alphabet, or else pass it along\n",
    "        if (i.isalpha()):\n",
    "            # redacting first alphabet and offset\n",
    "            reduced = (ord(i) - ord('a') - offset)\n",
    "            temp = reduced%26 + ord('a')\n",
    "            decrypted_string += chr(temp)\n",
    "        else: \n",
    "            decrypted_string += i\n",
    "            \n",
    "    return decrypted_string\n",
    "        \n",
    "            \n",
    "a = (shift(input(\"Input message you would like encrypted:\\n\"), -2))\n",
    "print (a)\n",
    "print (decrypt(a, -2))\n"
   ]
  },
  {
   "cell_type": "code",
   "execution_count": null,
   "metadata": {},
   "outputs": [],
   "source": []
  }
 ],
 "metadata": {
  "kernelspec": {
   "display_name": "Python 3",
   "language": "python",
   "name": "python3"
  },
  "language_info": {
   "codemirror_mode": {
    "name": "ipython",
    "version": 3
   },
   "file_extension": ".py",
   "mimetype": "text/x-python",
   "name": "python",
   "nbconvert_exporter": "python",
   "pygments_lexer": "ipython3",
   "version": "3.6.7"
  }
 },
 "nbformat": 4,
 "nbformat_minor": 2
}
