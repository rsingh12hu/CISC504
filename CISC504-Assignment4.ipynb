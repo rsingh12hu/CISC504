{
 "cells": [
  {
   "cell_type": "code",
   "execution_count": 67,
   "metadata": {},
   "outputs": [
    {
     "data": {
      "application/vnd.jupyter.widget-view+json": {
       "model_id": "d866bb13e784473ea12f4f190b2633df",
       "version_major": 2,
       "version_minor": 0
      },
      "text/plain": [
       "Turtle()"
      ]
     },
     "metadata": {},
     "output_type": "display_data"
    }
   ],
   "source": [
    "from mobilechelonian import Turtle\n",
    "t = Turtle()\n",
    "\n",
    "def build_stickman():\n",
    "    t.right(90)\n",
    "    t.forward(100)\n",
    "    t.left(30)\n",
    "    t.forward(50)\n",
    "    t.left(90)\n",
    "    t.forward(5)\n",
    "    t.right(180)\n",
    "    t.forward(5)\n",
    "    t.right(90)\n",
    "    t.forward(50)\n",
    "    t.left(120)\n",
    "    t.forward(50)\n",
    "    t.right(90)\n",
    "    t.forward(5)\n",
    "    t.right(180)\n",
    "    t.forward(5)\n",
    "    t.left(90)\n",
    "    t.forward(50)\n",
    "    t.left(30)\n",
    "    t.forward(70)\n",
    "    t.left(30)\n",
    "    t.forward(50)\n",
    "    t.right(180)\n",
    "    t.forward(50)\n",
    "    t.left(90)\n",
    "    t.forward(50)\n",
    "    t.right(180)\n",
    "    t.forward(50)\n",
    "    t.left(120)\n",
    "    t.left(120)\n",
    "    t.forward(30)\n",
    "    t.right(90)\n",
    "    t.circle(20,360)\n",
    "    \n",
    "build_stickman()\n"
   ]
  },
  {
   "cell_type": "code",
   "execution_count": null,
   "metadata": {},
   "outputs": [],
   "source": []
  }
 ],
 "metadata": {
  "kernelspec": {
   "display_name": "Python 3",
   "language": "python",
   "name": "python3"
  },
  "language_info": {
   "codemirror_mode": {
    "name": "ipython",
    "version": 3
   },
   "file_extension": ".py",
   "mimetype": "text/x-python",
   "name": "python",
   "nbconvert_exporter": "python",
   "pygments_lexer": "ipython3",
   "version": "3.6.5"
  }
 },
 "nbformat": 4,
 "nbformat_minor": 2
}
