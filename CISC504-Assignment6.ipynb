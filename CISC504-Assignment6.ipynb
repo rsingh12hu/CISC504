{
 "cells": [
  {
   "cell_type": "code",
   "execution_count": 1,
   "metadata": {},
   "outputs": [],
   "source": [
    "import numpy as np"
   ]
  },
  {
   "cell_type": "code",
   "execution_count": 2,
   "metadata": {},
   "outputs": [],
   "source": [
    "array_hw=np.array([[5,5,8,8,9,8],[7,7,5,3,5,7],[8,7,8,4,2,6],[9,9,7,3,1,4]])"
   ]
  },
  {
   "cell_type": "code",
   "execution_count": 13,
   "metadata": {},
   "outputs": [
    {
     "name": "stdout",
     "output_type": "stream",
     "text": [
      "[[5 5 8 8 9 8]\n",
      " [7 7 5 3 5 7]\n",
      " [8 7 8 4 2 6]\n",
      " [9 9 7 3 1 4]]\n"
     ]
    }
   ],
   "source": [
    "print (array_hw)"
   ]
  },
  {
   "cell_type": "code",
   "execution_count": 4,
   "metadata": {},
   "outputs": [
    {
     "name": "stdout",
     "output_type": "stream",
     "text": [
      "[1 2 3 3 4 4 5 5 5 5 6 7 7 7 7 7 8 8 8 8 8 9 9 9]\n"
     ]
    }
   ],
   "source": [
    "#1 Sort the flattened array\n",
    "\n",
    "ar_flat = array_hw.flatten()\n",
    "print (np.sort(ar_flat))"
   ]
  },
  {
   "cell_type": "code",
   "execution_count": 17,
   "metadata": {},
   "outputs": [
    {
     "name": "stdout",
     "output_type": "stream",
     "text": [
      "[5 7 7 9]\n"
     ]
    }
   ],
   "source": [
    "#2 Sort the second column\n",
    "print (np.sort(array_hw, axis=0)[:,1])"
   ]
  },
  {
   "cell_type": "code",
   "execution_count": 18,
   "metadata": {},
   "outputs": [
    {
     "name": "stdout",
     "output_type": "stream",
     "text": [
      "[2 4 6 7 8 8]\n"
     ]
    }
   ],
   "source": [
    "#3 Sort the third row\n",
    "print (np.sort(array_hw, axis=1)[2, :])"
   ]
  },
  {
   "cell_type": "code",
   "execution_count": 23,
   "metadata": {},
   "outputs": [
    {
     "name": "stdout",
     "output_type": "stream",
     "text": [
      "[[7 7 5 3 5 7]\n",
      " [8 7 8 4 2 6]\n",
      " [9 9 7 3 1 4]]\n"
     ]
    }
   ],
   "source": [
    "#4 Extract the second row onwards\n",
    "print(array_hw[1:,:])"
   ]
  },
  {
   "cell_type": "code",
   "execution_count": 25,
   "metadata": {},
   "outputs": [
    {
     "name": "stdout",
     "output_type": "stream",
     "text": [
      "[[8 8 9 8]\n",
      " [5 3 5 7]\n",
      " [8 4 2 6]\n",
      " [7 3 1 4]]\n"
     ]
    }
   ],
   "source": [
    "#5 Extract the third column onwards\n",
    "print(array_hw[:,2:])"
   ]
  },
  {
   "cell_type": "code",
   "execution_count": 26,
   "metadata": {},
   "outputs": [
    {
     "name": "stdout",
     "output_type": "stream",
     "text": [
      "[[25 25 64 64 81 64]\n",
      " [49 49 25  9 25 49]\n",
      " [64 49 64 16  4 36]\n",
      " [81 81 49  9  1 16]]\n"
     ]
    }
   ],
   "source": [
    "#6 obtain the square of array_hw\n",
    "print(np.square(array_hw))"
   ]
  },
  {
   "cell_type": "code",
   "execution_count": 27,
   "metadata": {},
   "outputs": [
    {
     "name": "stdout",
     "output_type": "stream",
     "text": [
      "1\n"
     ]
    }
   ],
   "source": [
    "#7 Slice the element from the third row and fourth column position 3X4\n",
    "print (array_hw[3,4])"
   ]
  },
  {
   "cell_type": "code",
   "execution_count": 28,
   "metadata": {},
   "outputs": [
    {
     "name": "stdout",
     "output_type": "stream",
     "text": [
      "145\n"
     ]
    }
   ],
   "source": [
    "#8  obtain the total sum of array_hw\n",
    "print (np.sum(array_hw))"
   ]
  },
  {
   "cell_type": "code",
   "execution_count": 35,
   "metadata": {},
   "outputs": [
    {
     "name": "stdout",
     "output_type": "stream",
     "text": [
      "Number of dimentions:  2\n"
     ]
    }
   ],
   "source": [
    "#9 How many dimentions does array_hw have\n",
    "print (\"Number of dimentions: \", (array_hw.ndim))"
   ]
  },
  {
   "cell_type": "code",
   "execution_count": 37,
   "metadata": {},
   "outputs": [
    {
     "name": "stdout",
     "output_type": "stream",
     "text": [
      "Datatype:  int64\n"
     ]
    }
   ],
   "source": [
    "#10 What is the data type listed in array_hw\n",
    "print (\"Datatype: \", (array_hw.dtype))"
   ]
  },
  {
   "cell_type": "code",
   "execution_count": 39,
   "metadata": {},
   "outputs": [
    {
     "name": "stdout",
     "output_type": "stream",
     "text": [
      "192\n"
     ]
    }
   ],
   "source": [
    "#11 What is the size of the memory in bytes consumed by all the elements in array_hw?\n",
    "print (array_hw.nbytes)"
   ]
  }
 ],
 "metadata": {
  "kernelspec": {
   "display_name": "Python 3",
   "language": "python",
   "name": "python3"
  },
  "language_info": {
   "codemirror_mode": {
    "name": "ipython",
    "version": 3
   },
   "file_extension": ".py",
   "mimetype": "text/x-python",
   "name": "python",
   "nbconvert_exporter": "python",
   "pygments_lexer": "ipython3",
   "version": "3.6.7"
  }
 },
 "nbformat": 4,
 "nbformat_minor": 2
}
