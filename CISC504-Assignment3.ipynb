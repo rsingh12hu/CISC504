{
 "cells": [
  {
   "cell_type": "code",
   "execution_count": 1,
   "metadata": {},
   "outputs": [],
   "source": [
    "from string import ascii_lowercase as Characters"
   ]
  },
  {
   "cell_type": "code",
   "execution_count": 67,
   "metadata": {},
   "outputs": [],
   "source": [
    "def shift(message, offset):\n",
    "\n",
    "    trans = str.maketrans(Characters, Characters[offset:] + Characters[:offset])\n",
    "    return message.lower().translate(trans)\n",
    "\n",
    "def decrypt(word, offset):\n",
    "    word.lower()\n",
    "    decrypted_string = \"\"\n",
    "    for i in word:\n",
    "        #checking if alphabet, or else pass it along\n",
    "        if (i.isalpha()):\n",
    "            # redacting first alphabet and offset\n",
    "            reduced = (ord(i) - ord('a') - offset)\n",
    "            temp = reduced%26 + ord('a')\n",
    "            decrypted_string += chr(temp)\n",
    "        else: \n",
    "            decrypted_string += i\n",
    "            \n",
    "    return decrypted_string\n",
    "        \n",
    "            \n"
   ]
  },
  {
   "cell_type": "code",
   "execution_count": 68,
   "metadata": {},
   "outputs": [
    {
     "name": "stdout",
     "output_type": "stream",
     "text": [
      "Input message you would like encrypted:\n",
      "This is a secret\n",
      "rfgq gq y qcapcr\n",
      "this is a secret\n"
     ]
    }
   ],
   "source": [
    "a = (shift(input(\"Input message you would like encrypted:\\n\"), -2))\n",
    "print (a)\n",
    "print (decrypt(a, -2))"
   ]
  }
 ],
 "metadata": {
  "kernelspec": {
   "display_name": "Python 3",
   "language": "python",
   "name": "python3"
  },
  "language_info": {
   "codemirror_mode": {
    "name": "ipython",
    "version": 3
   },
   "file_extension": ".py",
   "mimetype": "text/x-python",
   "name": "python",
   "nbconvert_exporter": "python",
   "pygments_lexer": "ipython3",
   "version": "3.6.5"
  }
 },
 "nbformat": 4,
 "nbformat_minor": 2
}
