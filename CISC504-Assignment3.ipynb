{
 "cells": [
  {
   "cell_type": "code",
   "execution_count": 9,
   "metadata": {},
   "outputs": [
    {
     "name": "stdout",
     "output_type": "stream",
     "text": [
      "Enter the amount of hours1\n",
      "Enter the amount of minutes1\n",
      "1 and 1 is 3660 sec\n"
     ]
    }
   ],
   "source": [
    "# Excersize 1\n",
    "def hrmin2sec():\n",
    "    \n",
    "    hr = int(input(\"Enter the amount of hours\"))\n",
    "    mini = int(input(\"Enter the amount of minutes\"))\n",
    "    \n",
    "    print (str(hr)+\" and \"+str(mini)+\" is \"+ str(hr*3600 + mini*60)+\" sec\")\n",
    "\n",
    "hrmin2sec()\n"
   ]
  },
  {
   "cell_type": "code",
   "execution_count": 1,
   "metadata": {},
   "outputs": [
    {
     "name": "stdout",
     "output_type": "stream",
     "text": [
      "[  1   3   4  10  21  26  33  43  45  51  56  65 106]\n",
      " Mean:  35.69230769230769\n",
      " Median:  33.0\n"
     ]
    }
   ],
   "source": [
    "# Excersize 2\n",
    "import numpy as np\n",
    "list1 = [26, 1, 43, 21, 33, 106, 45, 4, 10, 3, 51, 56, 65]\n",
    "\n",
    "list1 = np.sort(list1)\n",
    "\n",
    "print (list1)\n",
    "print (\" Mean: \", np.mean(list1))\n",
    "print (\" Median: \", np.median(list1))"
   ]
  }
 ],
 "metadata": {
  "kernelspec": {
   "display_name": "Python 3",
   "language": "python",
   "name": "python3"
  },
  "language_info": {
   "codemirror_mode": {
    "name": "ipython",
    "version": 3
   },
   "file_extension": ".py",
   "mimetype": "text/x-python",
   "name": "python",
   "nbconvert_exporter": "python",
   "pygments_lexer": "ipython3",
   "version": "3.6.7"
  }
 },
 "nbformat": 4,
 "nbformat_minor": 2
}
