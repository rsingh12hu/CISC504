{
 "cells": [
  {
   "cell_type": "code",
   "execution_count": null,
   "metadata": {},
   "outputs": [
    {
     "name": "stdout",
     "output_type": "stream",
     "text": [
      "Enter first number5\n",
      "Enter second number2\n",
      "Enter a for addition, s for substraction, m for multiply, d for divisiond\n",
      "Result of multiplication is:  2.5\n"
     ]
    }
   ],
   "source": [
    "# Ex1. Write a conversion program, calculator, or write any other program which uses a multi-way decision structure if, elif, else, and boolean logic to classify the outcome.\n",
    "# Ex2. Write a program which will generate some exceptions then use the try,except, else, and finally statements to handle them\n",
    "\n",
    "\n",
    "# This is a calculator and it will generate exceptions when someone tries to divide by 0\n",
    "def calculator():\n",
    "    \n",
    "    a = float(input(\"Enter first number\"))\n",
    "    b = float(input(\"Enter second number\"))\n",
    "    op = (input(\"Enter a for addition, s for substraction, m for multiply, d for division\"))\n",
    "    \n",
    "    if (op == 'a'):\n",
    "        print(\"Result of addition is: \", (a+b))\n",
    "    elif (op == 's'):\n",
    "        print(\"Result of substraction is: \", (a-b))\n",
    "    elif (op == 'm'):\n",
    "        print (\"Result of multiplication is: \", (a*b))\n",
    "    elif (op == 'd'):\n",
    "        res = 0.0\n",
    "        try:\n",
    "            print (\"Result of multiplication is: \", (a/b))\n",
    "        except ZeroDivisionError:\n",
    "            print (\"Zero Denominator not possible\")\n",
    "        else:\n",
    "            b = input(\"Choose different denominator\")\n",
    "            print (\"Division is\n",
    "        finally:\n",
    "            print (\"Division block was executed\")\n",
    "    else: \n",
    "        print (\"Incorrect operator\")\n",
    "calculator()    "
   ]
  },
  {
   "cell_type": "code",
   "execution_count": null,
   "metadata": {},
   "outputs": [],
   "source": []
  }
 ],
 "metadata": {
  "kernelspec": {
   "display_name": "Python 3",
   "language": "python",
   "name": "python3"
  },
  "language_info": {
   "codemirror_mode": {
    "name": "ipython",
    "version": 3
   },
   "file_extension": ".py",
   "mimetype": "text/x-python",
   "name": "python",
   "nbconvert_exporter": "python",
   "pygments_lexer": "ipython3",
   "version": "3.6.7"
  }
 },
 "nbformat": 4,
 "nbformat_minor": 2
}
